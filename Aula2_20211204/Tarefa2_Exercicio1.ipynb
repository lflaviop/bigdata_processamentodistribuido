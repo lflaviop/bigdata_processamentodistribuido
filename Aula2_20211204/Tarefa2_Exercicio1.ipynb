{
 "cells": [
  {
   "cell_type": "markdown",
   "id": "32f022ea-1994-43e3-865e-23984c710118",
   "metadata": {},
   "source": [
    "# **Big Data e Processamento Distribuído**\n",
    "## **Exercício 2**\n",
    "________________\n",
    "### **_Luiz Flavio Pereira_**\n",
    "___________________\n",
    "### _Refazer os exercícios de MapReduce, desta vez com SparkRDD_\n",
    "________________________"
   ]
  },
  {
   "cell_type": "markdown",
   "id": "67e47b81-7ce8-4ebc-ae82-19d3d0e8a3af",
   "metadata": {},
   "source": [
    "### Setup do programa"
   ]
  },
  {
   "cell_type": "code",
   "execution_count": 1,
   "id": "eca40585-f0f7-4059-802a-1f391b30e4f1",
   "metadata": {},
   "outputs": [
    {
     "name": "stderr",
     "output_type": "stream",
     "text": [
      "2021-12-16 23:12:34,156 WARN util.Utils: Your hostname, bigdatavm-VirtualBox resolves to a loopback address: 127.0.1.1; using 10.0.2.15 instead (on interface enp0s3)\n",
      "2021-12-16 23:12:34,157 WARN util.Utils: Set SPARK_LOCAL_IP if you need to bind to another address\n",
      "Setting default log level to \"WARN\".\n",
      "To adjust logging level use sc.setLogLevel(newLevel). For SparkR, use setLogLevel(newLevel).\n",
      "2021-12-16 23:12:36,203 WARN util.NativeCodeLoader: Unable to load native-hadoop library for your platform... using builtin-java classes where applicable\n"
     ]
    }
   ],
   "source": [
    "# Importacao das bibliotecas necessarias ao programa\n",
    "\n",
    "import findspark\n",
    "findspark.init()\n",
    "\n",
    "import pyspark\n",
    "sc = pyspark.SparkContext(appName='Tarefa2')"
   ]
  },
  {
   "cell_type": "code",
   "execution_count": 2,
   "id": "cd47a2f4-6d19-4870-86cc-bce743fe38b9",
   "metadata": {},
   "outputs": [],
   "source": [
    "# Checagem da sessao do Spark\n",
    "\n",
    "from pyspark.sql import SparkSession\n",
    "\n",
    "spark = SparkSession.builder.getOrCreate()"
   ]
  },
  {
   "cell_type": "markdown",
   "id": "917411be-8f76-46c0-87df-019034127f88",
   "metadata": {},
   "source": [
    "________________________\n",
    "### Leitura do arquivo flights.csv"
   ]
  },
  {
   "cell_type": "code",
   "execution_count": 3,
   "id": "4945c8de-533d-412d-a4f2-66fd454f16cc",
   "metadata": {},
   "outputs": [],
   "source": [
    "# Leitura do arquivo CSV\n",
    "\n",
    "flights_file = 'file:///home/bigdata-vm/Desktop/BigDataAulas/Datasets/flights.csv'\n",
    "flights_RDD = sc.textFile(flights_file)"
   ]
  },
  {
   "cell_type": "markdown",
   "id": "5a9f601a-2d42-40c0-9137-32edc4f0a4c9",
   "metadata": {},
   "source": [
    "________________\n",
    "### **Questão a)** O tempo total de vôo de cada companhia"
   ]
  },
  {
   "cell_type": "code",
   "execution_count": 4,
   "id": "cf077740-7c17-45fd-bd82-d752a2e3297b",
   "metadata": {},
   "outputs": [
    {
     "name": "stderr",
     "output_type": "stream",
     "text": [
      "2021-12-16 23:12:43,538 WARN scheduler.TaskSetManager: Stage 2 contains a task of very large size (2211 KiB). The maximum recommended task size is 1000 KiB.\n"
     ]
    },
    {
     "name": "stdout",
     "output_type": "stream",
     "text": [
      "Companhia  Tempo Total de Voo (minutos)\n",
      "---------------------------------------\n",
      "19393      9959718.0\n",
      "19690      449242.0\n",
      "19790      7747256.0\n",
      "19805      6273366.0\n",
      "19930      2001295.0\n",
      "19977      6757883.0\n",
      "20304      3625141.0\n",
      "20355      4194811.0\n",
      "20366      4142864.0\n",
      "20398      2391168.0\n",
      "20409      3009096.0\n",
      "20436      689589.0\n",
      "20437      799733.0\n",
      "21171      916098.0\n"
     ]
    }
   ],
   "source": [
    "def total_voo_cia(line):\n",
    "    record = line.split(',')\n",
    "    return (record[1], float(record[9]))\n",
    "\n",
    "total_voo = flights_RDD.map(total_voo_cia).take(500000)\n",
    "total_voo_RDD = sc.parallelize(total_voo)\n",
    "\n",
    "grouped_total_voo_RDD = total_voo_RDD.reduceByKey(lambda a,b: a+b).sortByKey()\n",
    "\n",
    "print('Companhia  Tempo Total de Voo (minutos)')\n",
    "print('---------------------------------------')\n",
    "\n",
    "for key, values in grouped_total_voo_RDD.collect():\n",
    "    print(f'{key}      {values}')"
   ]
  },
  {
   "cell_type": "markdown",
   "id": "b445c3af-4a8b-47ae-b217-17ee4081b319",
   "metadata": {},
   "source": [
    "________________\n",
    "### **Questão b)** Qual é o destino mais visado"
   ]
  },
  {
   "cell_type": "code",
   "execution_count": 5,
   "id": "0e8ddde3-b721-43f5-af85-ac516a567135",
   "metadata": {},
   "outputs": [
    {
     "name": "stderr",
     "output_type": "stream",
     "text": [
      "                                                                                \r"
     ]
    },
    {
     "name": "stdout",
     "output_type": "stream",
     "text": [
      "O aeroporto mais visitado foi ATL, com 30953 visitas.\n"
     ]
    }
   ],
   "source": [
    "airports_visited = {}\n",
    "\n",
    "def most_visited(line):\n",
    "    record = line.split(',')\n",
    "    return (record[4], int(1))\n",
    "\n",
    "airports_visited_RDD = flights_RDD.map(most_visited)\n",
    "total_airports_visited = airports_visited_RDD.reduceByKey(lambda a,b: a+b).take(500000)\n",
    "\n",
    "for airports in total_airports_visited:\n",
    "    airports_visited[airports[0]] = airports[1]\n",
    "\n",
    "max_count = int(max(airports_visited.values()))\n",
    "airport_most_visited = list(airports_visited.keys())[list(airports_visited.values()).index(max_count)]\n",
    "\n",
    "print(f'O aeroporto mais visitado foi {airport_most_visited}, com {max_count} visitas.')"
   ]
  },
  {
   "cell_type": "markdown",
   "id": "ffeab19d-210e-4d35-be03-a464a2f6a570",
   "metadata": {},
   "source": [
    "________________\n",
    "### **Questão c)** Quais aeroportos cada companhia passou"
   ]
  },
  {
   "cell_type": "code",
   "execution_count": 6,
   "id": "cb4e1309-7ca4-42a2-aa4f-c733c98c72fc",
   "metadata": {},
   "outputs": [
    {
     "name": "stderr",
     "output_type": "stream",
     "text": [
      "2021-12-16 21:45:08,334 WARN scheduler.TaskSetManager: Stage 15 contains a task of very large size (1863 KiB). The maximum recommended task size is 1000 KiB.\n"
     ]
    },
    {
     "name": "stdout",
     "output_type": "stream",
     "text": [
      "19393 {'MSP', 'BHM', 'OKC', 'TUL', 'IND', 'AUS', 'ABQ', 'BUF', 'ATL', 'GRR', 'OMA', 'CHS', 'FNT', 'ROC', 'RIC', 'DAL', 'CLT', 'DTW', 'PDX', 'TUS', 'BDL', 'EYW', 'CAK', 'MCO', 'PHL', 'MHT', 'SAN', 'PNS', 'TPA', 'JAX', 'DEN', 'GEG', 'PBI', 'SLC', 'BKG', 'BOI', 'RSW', 'RDU', 'SAT', 'LAS', 'BNA', 'MEM', 'CLE', 'SMF', 'MDW', 'DSM', 'RNO', 'ICT', 'DCA', 'SJC', 'ALB', 'JAN', 'LIT', 'MSY', 'BOS', 'ISP', 'CMH', 'LBB', 'SFO', 'SNA', 'ECP', 'FLL', 'OAK', 'GSP', 'ONT', 'SEA', 'MAF', 'STL', 'AMA', 'PHX', 'LGA', 'DAY', 'HOU', 'MKE', 'LAX', 'ELP', 'BUR', 'CRP', 'EWR', 'PWM', 'MCI', 'SJU', 'HRL', 'PIT', 'IAD', 'SDF', 'PVD', 'ORF', 'BWI'}\n",
      "\n",
      "\n",
      "19690 {'OGG', 'SMF', 'KOA', 'PPG', 'PDX', 'HNL', 'SFO', 'PHX', 'JFK', 'LAS', 'SJC', 'OAK', 'ITO', 'SAN', 'LAX', 'SEA', 'LIH'}\n",
      "\n",
      "\n",
      "19790 {'CHA', 'MSP', 'BHM', 'OKC', 'TYS', 'MYR', 'TUL', 'GPT', 'IND', 'AUS', 'ABQ', 'BUF', 'ATL', 'GRR', 'OMA', 'CHS', 'MDT', 'TRI', 'FNT', 'ROC', 'RIC', 'MOB', 'CVG', 'CLT', 'OGG', 'DTW', 'PDX', 'TUS', 'PSP', 'JFK', 'ABE', 'BDL', 'IAH', 'EYW', 'GSO', 'CAK', 'MCO', 'PHL', 'MHT', 'SAN', 'PNS', 'CAE', 'AVL', 'ROA', 'SAV', 'TPA', 'JAX', 'FAR', 'DEN', 'COS', 'LEX', 'BIL', 'GEG', 'PBI', 'LIH', 'SLC', 'SRQ', 'AGS', 'RSW', 'BOI', 'RDU', 'FSD', 'HSV', 'SAT', 'KOA', 'VPS', 'LAS', 'BNA', 'MEM', 'DAB', 'DFW', 'CLE', 'SMF', 'STT', 'MDW', 'ILM', 'ORD', 'CRW', 'ANC', 'DSM', 'RNO', 'ICT', 'DCA', 'SJC', 'FAY', 'ALB', 'JAN', 'MLB', 'LIT', 'GRB', 'MSY', 'BOS', 'SYR', 'CMH', 'MSO', 'SFO', 'SNA', 'OAK', 'FLL', 'ECP', 'GSP', 'JAC', 'SEA', 'STL', 'HNL', 'PHX', 'LGA', 'HOU', 'DAY', 'MSN', 'MKE', 'LAX', 'XNA', 'ELP', 'MIA', 'EWR', 'GNV', 'BZN', 'PWM', 'MCI', 'SJU', 'HRL', 'PIT', 'SDF', 'IAD', 'BTR', 'PVD', 'ORF', 'TLH', 'BWI'}\n",
      "\n",
      "\n",
      "19805 {'STX', 'MSP', 'OKC', 'BHM', 'TUL', 'IND', 'MFE', 'AUS', 'ABQ', 'FAT', 'ATL', 'OMA', 'RIC', 'CLT', 'OGG', 'DTW', 'PDX', 'TUS', 'PSP', 'JFK', 'BDL', 'IAH', 'MCO', 'PHL', 'SAN', 'TPA', 'JAX', 'DEN', 'COS', 'PBI', 'LIH', 'SLC', 'RSW', 'RDU', 'HSV', 'SAT', 'KOA', 'LAS', 'BNA', 'MEM', 'DFW', 'CLE', 'SMF', 'STT', 'ORD', 'DSM', 'RNO', 'ICT', 'DCA', 'SJC', 'LIT', 'MSY', 'BOS', 'CMH', 'LBB', 'SFO', 'SNA', 'FLL', 'ONT', 'SEA', 'STL', 'HNL', 'PHX', 'LGA', 'DAY', 'MKE', 'LAX', 'XNA', 'ELP', 'MIA', 'CRP', 'EWR', 'MCI', 'SJU', 'IAD', 'SDF', 'PIT', 'ORF', 'BWI'}\n",
      "\n",
      "\n",
      "19930 {'IAH', 'KOA', 'MSP', 'SFO', 'MCO', 'PHL', 'SNA', 'LAS', 'OAK', 'FLL', 'OTZ', 'SAN', 'JNU', 'ONT', 'KTN', 'SEA', 'SMF', 'DFW', 'STL', 'ADK', 'ORD', 'AUS', 'HNL', 'ANC', 'PHX', 'SJC', 'BRW', 'DCA', 'ATL', 'BLI', 'LAX', 'OME', 'DEN', 'PSG', 'BET', 'BUR', 'YAK', 'EWR', 'FAI', 'GEG', 'SIT', 'LIH', 'SLC', 'SCC', 'MCI', 'OGG', 'PDX', 'TUS', 'WRG', 'BOS', 'CDV', 'PSP', 'ADQ', 'SAT'}\n",
      "\n",
      "\n",
      "19977 {'MSP', 'OKC', 'EGE', 'IND', 'AUS', 'ABQ', 'BUF', 'ATL', 'GRR', 'OMA', 'CHS', 'MDT', 'ROC', 'RIC', 'CLT', 'OGG', 'DTW', 'PDX', 'GUM', 'PSP', 'JFK', 'BDL', 'IAH', 'MCO', 'PHL', 'SAN', 'TPA', 'JAX', 'DEN', 'BIL', 'PBI', 'GEG', 'LIH', 'SLC', 'SRQ', 'AGS', 'BOI', 'RSW', 'RDU', 'BQN', 'SAT', 'KOA', 'LAS', 'DFW', 'SMF', 'CLE', 'STT', 'ORD', 'ANC', 'DSM', 'RNO', 'SJC', 'DCA', 'ICT', 'ALB', 'MSY', 'BOS', 'ITO', 'CMH', 'SFO', 'SNA', 'JAC', 'FLL', 'SEA', 'STL', 'HNL', 'PHX', 'LGA', 'MTJ', 'LAX', 'MIA', 'EWR', 'BZN', 'MCI', 'SJU', 'IAD', 'PIT', 'BWI'}\n",
      "\n",
      "\n",
      "20304 {'RKS', 'CLD', 'MSP', 'BHM', 'OKC', 'ISN', 'SAF', 'TUL', 'LAR', 'CHO', 'ATW', 'IND', 'LMT', 'MFE', 'MOD', 'MKG', 'HIB', 'AUS', 'FAT', 'ABQ', 'ATL', 'GRR', 'OMA', 'EKO', 'CHS', 'COD', 'VEL', 'CVG', 'PIH', 'CLT', 'DLH', 'DTW', 'PDX', 'PAH', 'TUS', 'LGB', 'PSP', 'MOT', 'BDL', 'IAH', 'OTH', 'BTM', 'YUM', 'BJI', 'BRD', 'SPI', 'SAN', 'AVL', 'FWA', 'GFK', 'MMH', 'CEC', 'FAR', 'DEN', 'COS', 'FLG', 'FCA', 'BIL', 'TWF', 'GEG', 'PBI', 'GJT', 'RHI', 'SLC', 'MFR', 'ACV', 'CID', 'IDA', 'BOI', 'RSW', 'RAP', 'DIK', 'RDU', 'FSD', 'LNK', 'ASE', 'SAT', 'CDC', 'RDM', 'LAN', 'LAS', 'BNA', 'MEM', 'CNY', 'LSE', 'DFW', 'SMF', 'CLE', 'ORD', 'PUB', 'CMX', 'DSM', 'SJC', 'RNO', 'ICT', 'BRO', 'DCA', 'LWS', 'RST', 'SBA', 'GTF', 'MLI', 'LIT', 'SGU', 'GRB', 'PSC', 'BIS', 'MSY', 'EUG', 'SYR', 'SBN', 'GCC', 'CMH', 'MSO', 'IMT', 'SFO', 'SNA', 'SUN', 'OAK', 'JAC', 'DRO', 'ONT', 'SBP', 'SEA', 'STL', 'MBS', 'MAF', 'HDN', 'CIC', 'PHX', 'DAY', 'MSN', 'MTJ', 'APN', 'MKE', 'BFL', 'LAX', 'XNA', 'ELP', 'SMX', 'BUR', 'CPR', 'RDD', 'BZN', 'MRY', 'MCI', 'SDF', 'IAD', 'TVC', 'PIT', 'SGF', 'PIA', 'HLN', 'EAU', 'INL', 'ORF', 'ABR'}\n",
      "\n",
      "\n",
      "20355 {'IAH', 'KOA', 'STX', 'MSP', 'SFO', 'MCO', 'PHL', 'SNA', 'LAS', 'BNA', 'OAK', 'FLL', 'MEM', 'ONT', 'SAN', 'DFW', 'SMF', 'CLE', 'SEA', 'STL', 'IND', 'STT', 'BTV', 'ILM', 'ORD', 'AUS', 'HNL', 'ANC', 'PHX', 'LGA', 'DSM', 'RNO', 'SJC', 'DCA', 'TPA', 'BUF', 'ATL', 'MKE', 'JAX', 'OMA', 'LAX', 'CHS', 'MDT', 'ROC', 'DEN', 'SAT', 'RIC', 'MIA', 'EWR', 'ALB', 'PBI', 'GEG', 'PWM', 'LIH', 'SLC', 'MCI', 'SRQ', 'CLT', 'SJU', 'PIT', 'OGG', 'BOI', 'RSW', 'DTW', 'PDX', 'RDU', 'LGB', 'MSY', 'BOS', 'SYR', 'PVD', 'ORF', 'JFK', 'CMH', 'BDL', 'BWI'}\n",
      "\n",
      "\n",
      "20366 {'CHA', 'BMI', 'MSP', 'OKC', 'BHM', 'SPS', 'BPT', 'TYS', 'MYR', 'TUL', 'BQK', 'SAF', 'ISN', 'CHO', 'GPT', 'ATW', 'IND', 'MFE', 'GRK', 'AUS', 'PHF', 'ABQ', 'BUF', 'ATL', 'GRR', 'OMA', 'CHS', 'MDT', 'TRI', 'FNT', 'ROC', 'RIC', 'MOB', 'LRD', 'GTR', 'CVG', 'DAL', 'CLT', 'SCE', 'DTW', 'TUS', 'JFK', 'ABE', 'MOT', 'BDL', 'IAH', 'SHV', 'EYW', 'GUC', 'TYR', 'GSO', 'LFT', 'CAK', 'MCO', 'PHL', 'MHT', 'PNS', 'CAE', 'ABI', 'AVL', 'BTV', 'OAJ', 'FWA', 'LCH', 'SAV', 'ROA', 'TPA', 'JAX', 'SJT', 'FAR', 'AVP', 'DEN', 'COS', 'LEX', 'FOE', 'BIL', 'PBI', 'GJT', 'AGS', 'SLC', 'CID', 'RSW', 'RAP', 'DIK', 'RDU', 'EVV', 'FSD', 'HSV', 'LNK', 'SAT', 'CWA', 'HOB', 'VPS', 'LAN', 'BNA', 'MEM', 'DFW', 'CLE', 'MDW', 'MLU', 'ILM', 'ORD', 'CRW', 'DSM', 'ICT', 'BRO', 'DCA', 'FAY', 'ALB', 'JAN', 'MLI', 'LIT', 'GRB', 'BIS', 'MSY', 'BOS', 'SYR', 'SBN', 'CMH', 'MGM', 'LBB', 'ECP', 'FLL', 'DRO', 'GSP', 'AEX', 'MAF', 'STL', 'EWN', 'AMA', 'PHX', 'DAY', 'HOU', 'ACY', 'LGA', 'MSN', 'FSM', 'VLD', 'MTJ', 'MKE', 'XNA', 'CSG', 'ELP', 'MIA', 'ELM', 'CRP', 'EWR', 'CLL', 'GNV', 'BGR', 'PWM', 'MCI', 'HRL', 'HPN', 'IAD', 'PIT', 'SDF', 'SGF', 'TVC', 'BTR', 'PIA', 'ABY', 'DHN', 'PVD', 'ORF', 'TLH', 'BWI'}\n",
      "\n",
      "\n",
      "20398 {'CHA', 'BMI', 'MSP', 'BHM', 'OKC', 'SPS', 'BPT', 'TYS', 'SAF', 'TUL', 'CHO', 'GPT', 'IND', 'GRK', 'ABQ', 'BUF', 'ATL', 'GRR', 'OMA', 'CHS', 'MDT', 'FNT', 'ROC', 'RIC', 'MOB', 'LRD', 'AZO', 'CVG', 'MQT', 'CLT', 'GRI', 'DTW', 'ACT', 'JFK', 'BDL', 'IAH', 'SHV', 'EYW', 'TXK', 'TYR', 'GSO', 'LFT', 'PHL', 'SPI', 'SAN', 'PNS', 'CAE', 'ABI', 'FWA', 'ROA', 'LCH', 'SAV', 'TPA', 'LAW', 'JAX', 'SJT', 'FAR', 'DEN', 'LEX', 'JLN', 'ROW', 'MHK', 'GJT', 'SLC', 'ALO', 'CID', 'RAP', 'RDU', 'EVV', 'FSD', 'HSV', 'SAT', 'CWA', 'VPS', 'BNA', 'MEM', 'LSE', 'DFW', 'CLE', 'MLU', 'ILM', 'ORD', 'DBQ', 'DSM', 'SJC', 'BRO', 'DCA', 'RST', 'TOL', 'JAN', 'MLI', 'ART', 'LIT', 'GRB', 'SYR', 'CMH', 'MGM', 'GCK', 'LBB', 'GGG', 'GSP', 'DRO', 'AEX', 'MAF', 'STL', 'AMA', 'LGA', 'MSN', 'HOU', 'DAY', 'FSM', 'MKE', 'LAX', 'XNA', 'CMI', 'MIA', 'CRP', 'GNV', 'CLL', 'EWR', 'MCI', 'PIT', 'SGF', 'SDF', 'COU', 'BTR', 'PIA', 'ORF', 'SUX', 'TLH', 'BWI'}\n",
      "\n",
      "\n",
      "20409 {'STX', 'SFO', 'MCO', 'PHL', 'LAS', 'OAK', 'FLL', 'SAN', 'DFW', 'SMF', 'SEA', 'STT', 'BTV', 'ORD', 'AUS', 'PHX', 'HOU', 'LGA', 'SAV', 'ABQ', 'SJC', 'DCA', 'BUF', 'TPA', 'JAX', 'CHS', 'LAX', 'ROC', 'DEN', 'SWF', 'RIC', 'ORH', 'BUR', 'PSE', 'EWR', 'PBI', 'PWM', 'SLC', 'SRQ', 'CLT', 'SJU', 'HPN', 'IAD', 'PIT', 'RSW', 'DTW', 'PDX', 'RDU', 'LGB', 'BQN', 'MSY', 'BOS', 'SYR', 'PVD', 'JFK', 'BDL', 'BWI'}\n",
      "\n",
      "\n",
      "20436 {'IAH', 'BMI', 'MSP', 'SFO', 'OKC', 'MCO', 'GSO', 'SNA', 'LAN', 'LAS', 'TYS', 'BNA', 'TTN', 'FLL', 'MEM', 'JAC', 'SAN', 'DFW', 'IND', 'CLE', 'SEA', 'ILG', 'STL', 'MDW', 'AUS', 'PHX', 'LGA', 'DSM', 'FAT', 'MSN', 'PHF', 'DCA', 'TPA', 'ATL', 'MKE', 'OMA', 'FAR', 'LAX', 'MDT', 'SBA', 'DEN', 'CVG', 'GEG', 'BZN', 'SLC', 'MCI', 'CLT', 'LIT', 'CID', 'BKG', 'RSW', 'DTW', 'PDX', 'BIS', 'RDU', 'MSY', 'EUG', 'FSD', 'PSP', 'MOT'}\n",
      "\n",
      "\n",
      "20437 {'MSP', 'SFO', 'OKC', 'MCO', 'CAK', 'PHL', 'SNA', 'LAS', 'FLL', 'IND', 'STL', 'MDW', 'AUS', 'LGA', 'DAY', 'HOU', 'DCA', 'TPA', 'ATL', 'JAX', 'MKE', 'LAX', 'DEN', 'RIC', 'PBI', 'MCI', 'PIT', 'SDF', 'RSW', 'DTW', 'BWI', 'RDU', 'MSY', 'BOS', 'ORF', 'CMH', 'BDL', 'SAT'}\n",
      "\n",
      "\n",
      "21171 {'SFO', 'MCO', 'PHL', 'LAS', 'FLL', 'SAN', 'DFW', 'SEA', 'ORD', 'AUS', 'SJC', 'DCA', 'LAX', 'EWR', 'IAD', 'PDX', 'BOS', 'PSP', 'JFK'}\n",
      "\n",
      "\n"
     ]
    }
   ],
   "source": [
    "# Quais aeroportos cada companhia passou\n",
    "def airports_origin(line):\n",
    "    record = line.split(',')\n",
    "    return (record[1], record[3])\n",
    "\n",
    "airports = (flights_RDD.map(airports_origin).take(500000))\n",
    "airports_RDD = sc.parallelize(airports)\n",
    "\n",
    "grouped_airports_RDD = airports_RDD.groupByKey().sortByKey()\n",
    "\n",
    "for key, values in grouped_airports_RDD.collect():\n",
    "    print(key, set(values))\n",
    "    print('\\n')"
   ]
  },
  {
   "cell_type": "markdown",
   "id": "083c1afb-43a2-4ab4-adda-b06fa287cac7",
   "metadata": {},
   "source": [
    "________________\n",
    "### **Questão d)** O vôo de maior distância de cada companhia"
   ]
  },
  {
   "cell_type": "code",
   "execution_count": 6,
   "id": "d657c8c0-1fba-4fab-a4a6-09cbc6044e0b",
   "metadata": {},
   "outputs": [
    {
     "name": "stderr",
     "output_type": "stream",
     "text": [
      "2021-12-16 23:15:47,182 WARN scheduler.TaskSetManager: Stage 15 contains a task of very large size (2211 KiB). The maximum recommended task size is 1000 KiB.\n"
     ]
    },
    {
     "name": "stdout",
     "output_type": "stream",
     "text": [
      "Companhia  Maior Voo (milhas)\n",
      "-----------------------------\n",
      "19393      2335.0\n",
      "19690      4983.0\n",
      "19790      4502.0\n",
      "19805      3784.0\n",
      "19930      2874.0\n",
      "19977      4962.0\n",
      "20304      1535.0\n",
      "20355      2979.0\n",
      "20366      1389.0\n",
      "20398      1379.0\n",
      "20409      2704.0\n",
      "20436      1703.0\n",
      "20437      2139.0\n",
      "21171      2704.0\n"
     ]
    }
   ],
   "source": [
    "def max_flight(line):\n",
    "    record = line.split(',')\n",
    "    return (record[1], float(record[10]))\n",
    "\n",
    "max_flight_by_cia = flights_RDD.map(max_flight).take(500000)\n",
    "max_flight_by_cia_RDD = sc.parallelize(max_flight_by_cia)\n",
    "\n",
    "grouped_max_flight_by_cia_RDD = max_flight_by_cia_RDD.groupByKey().sortByKey()\n",
    "\n",
    "print('Companhia  Maior Voo (milhas)')\n",
    "print('-----------------------------')\n",
    "\n",
    "for key, values in grouped_max_flight_by_cia_RDD.collect():\n",
    "    print(f'{key}      {max(set(values))}')"
   ]
  },
  {
   "cell_type": "markdown",
   "id": "335b8434-c290-41ef-aaed-a7a600d46398",
   "metadata": {},
   "source": [
    "________________\n",
    "### **Questão e)** Qual é o vôo mais frequente de cada companhia"
   ]
  },
  {
   "cell_type": "code",
   "execution_count": 7,
   "id": "70659baa-e20c-41d6-b473-d1ade18cbf0a",
   "metadata": {
    "tags": []
   },
   "outputs": [
    {
     "name": "stderr",
     "output_type": "stream",
     "text": [
      "2021-12-16 23:15:58,028 WARN scheduler.TaskSetManager: Stage 24 contains a task of very large size (1937 KiB). The maximum recommended task size is 1000 KiB.\n"
     ]
    },
    {
     "name": "stdout",
     "output_type": "stream",
     "text": [
      "O voo mais frequente da companhia 19393 foi o 583 com 170 voos.\n",
      "O voo mais frequente da companhia 19690 foi o 1 com 30 voos.\n",
      "O voo mais frequente da companhia 19790 foi o 1258 com 60 voos.\n",
      "O voo mais frequente da companhia 19805 foi o 29 com 60 voos.\n",
      "O voo mais frequente da companhia 19930 foi o 64 com 150 voos.\n",
      "O voo mais frequente da companhia 19977 foi o 1246 com 75 voos.\n",
      "O voo mais frequente da companhia 20304 foi o 5325 com 90 voos.\n",
      "O voo mais frequente da companhia 20355 foi o 409 com 120 voos.\n",
      "O voo mais frequente da companhia 20366 foi o 2514 com 60 voos.\n",
      "O voo mais frequente da companhia 20398 foi o 2726 com 60 voos.\n",
      "O voo mais frequente da companhia 20409 foi o 2054 com 59 voos.\n",
      "O voo mais frequente da companhia 20436 foi o 143 com 50 voos.\n",
      "O voo mais frequente da companhia 20437 foi o 221 com 46 voos.\n",
      "O voo mais frequente da companhia 21171 foi o 251 com 60 voos.\n"
     ]
    }
   ],
   "source": [
    "dic_frequent_flights = {}\n",
    "dic_frequent_flights_count = {}\n",
    "\n",
    "def most_frequent(line):\n",
    "    record = line.split(',')\n",
    "    return (record[1], record[2])\n",
    "\n",
    "most_frequent_flight_by_cia = flights_RDD.map(most_frequent).take(500000)\n",
    "most_frequent_flight_by_cia_RDD = sc.parallelize(most_frequent_flight_by_cia)\n",
    "\n",
    "grouped_most_frequent_flight_by_cia_RDD = most_frequent_flight_by_cia_RDD.groupByKey().sortByKey()\n",
    "\n",
    "for i in grouped_most_frequent_flight_by_cia_RDD.collect():\n",
    "    dic_frequent_flights[i[0]] = list(i[1])\n",
    "    \n",
    "for cia in dic_frequent_flights.keys():\n",
    "    for id_flight in dic_frequent_flights[cia]:\n",
    "        if id_flight in dic_frequent_flights_count:\n",
    "            dic_frequent_flights_count[id_flight] += 1\n",
    "        else:\n",
    "            dic_frequent_flights_count[id_flight] = 1\n",
    "            \n",
    "    max_count = int(max(dic_frequent_flights_count.values()))\n",
    "    id_flight_max = list(dic_frequent_flights_count.keys())[list(dic_frequent_flights_count.values()).index(max_count)]\n",
    "    dic_frequent_flights_count.clear()\n",
    "    \n",
    "    print(f'O voo mais frequente da companhia {cia} foi o {id_flight_max} com {max_count} voos.')"
   ]
  },
  {
   "cell_type": "code",
   "execution_count": null,
   "id": "f9f5ae93-2687-4749-ac77-e8cfe7a7e208",
   "metadata": {},
   "outputs": [],
   "source": []
  }
 ],
 "metadata": {
  "kernelspec": {
   "display_name": "Python 3 (ipykernel)",
   "language": "python",
   "name": "python3"
  },
  "language_info": {
   "codemirror_mode": {
    "name": "ipython",
    "version": 3
   },
   "file_extension": ".py",
   "mimetype": "text/x-python",
   "name": "python",
   "nbconvert_exporter": "python",
   "pygments_lexer": "ipython3",
   "version": "3.8.10"
  }
 },
 "nbformat": 4,
 "nbformat_minor": 5
}
